{
 "cells": [
  {
   "cell_type": "markdown",
   "id": "e7d963fc",
   "metadata": {},
   "source": [
    "# Working with Data frame"
   ]
  },
  {
   "cell_type": "markdown",
   "id": "ffb6ef0a",
   "metadata": {},
   "source": [
    "## 1. Pandas Library"
   ]
  },
  {
   "cell_type": "markdown",
   "id": "a080c24c",
   "metadata": {},
   "source": [
    "Pandas library is the one of the most populated used library for manipulating with data. We use the Series and Dataframe data structure extensively as these are much more powerful and useful to manipulate with data when compare with list and dictionary in python.\n",
    "\n",
    "There's another very popular library called Numpy. Pandas bulid on top of it and we usually use pandas directly."
   ]
  },
  {
   "cell_type": "code",
   "execution_count": 7,
   "id": "122da828",
   "metadata": {},
   "outputs": [],
   "source": [
    "import pandas as pd"
   ]
  },
  {
   "cell_type": "markdown",
   "id": "af8c9270",
   "metadata": {},
   "source": [
    "## 2. Pandas Series"
   ]
  },
  {
   "cell_type": "markdown",
   "id": "7c82119d",
   "metadata": {},
   "source": [
    "A series is very similar to a list. We can easily convert a list to a simple series. A series also has index."
   ]
  },
  {
   "cell_type": "code",
   "execution_count": 8,
   "id": "a9bfcdbb",
   "metadata": {},
   "outputs": [],
   "source": [
    "stocks = [\"AAPL\", \"BABA\", \"DIDI\", \"MSFT\", \"AMZN\", \"ADBE\", \"TSLA\", \"MS\", \"V\", \"MA\", \"GS\"]"
   ]
  },
  {
   "cell_type": "code",
   "execution_count": 9,
   "id": "c9026b35",
   "metadata": {},
   "outputs": [],
   "source": [
    "stocks_series = pd.Series(stocks)"
   ]
  },
  {
   "cell_type": "code",
   "execution_count": 10,
   "id": "66a0bbd3",
   "metadata": {},
   "outputs": [
    {
     "data": {
      "text/plain": [
       "0     AAPL\n",
       "1     BABA\n",
       "2     DIDI\n",
       "3     MSFT\n",
       "4     AMZN\n",
       "5     ADBE\n",
       "6     TSLA\n",
       "7       MS\n",
       "8        V\n",
       "9       MA\n",
       "10      GS\n",
       "dtype: object"
      ]
     },
     "execution_count": 10,
     "metadata": {},
     "output_type": "execute_result"
    }
   ],
   "source": [
    "stocks_series"
   ]
  },
  {
   "cell_type": "markdown",
   "id": "22f5a6b3",
   "metadata": {},
   "source": [
    "Getting the values using index"
   ]
  },
  {
   "cell_type": "code",
   "execution_count": 11,
   "id": "31dd2927",
   "metadata": {},
   "outputs": [
    {
     "data": {
      "text/plain": [
       "'AAPL'"
      ]
     },
     "execution_count": 11,
     "metadata": {},
     "output_type": "execute_result"
    }
   ],
   "source": [
    "stocks_series[0]"
   ]
  },
  {
   "cell_type": "code",
   "execution_count": 12,
   "id": "db7b2e69",
   "metadata": {},
   "outputs": [
    {
     "data": {
      "text/plain": [
       "1    BABA\n",
       "2    DIDI\n",
       "dtype: object"
      ]
     },
     "execution_count": 12,
     "metadata": {},
     "output_type": "execute_result"
    }
   ],
   "source": [
    "stocks_series[1:3]"
   ]
  },
  {
   "cell_type": "code",
   "execution_count": 13,
   "id": "935307a6",
   "metadata": {},
   "outputs": [
    {
     "data": {
      "text/plain": [
       "2    DIDI\n",
       "3    MSFT\n",
       "4    AMZN\n",
       "5    ADBE\n",
       "dtype: object"
      ]
     },
     "execution_count": 13,
     "metadata": {},
     "output_type": "execute_result"
    }
   ],
   "source": [
    "stocks_series[2:6]"
   ]
  },
  {
   "cell_type": "markdown",
   "id": "88c61e98",
   "metadata": {},
   "source": [
    "The difference between list and series is that we can use not use interger as index. Now it looks more like a dictionary. And we can create it from a dictionary"
   ]
  },
  {
   "cell_type": "code",
   "execution_count": 14,
   "id": "cbaa8383",
   "metadata": {},
   "outputs": [],
   "source": [
    "sales = {'Central Branch' : 10000,\n",
    "         'TST Branch' : 2000,\n",
    "         'Mongkok Branch' : 3000}"
   ]
  },
  {
   "cell_type": "code",
   "execution_count": 15,
   "id": "59d345f2",
   "metadata": {},
   "outputs": [],
   "source": [
    "sales_series = pd.Series(sales)"
   ]
  },
  {
   "cell_type": "code",
   "execution_count": 16,
   "id": "64b9ea46",
   "metadata": {},
   "outputs": [
    {
     "data": {
      "text/plain": [
       "Central Branch    10000\n",
       "TST Branch         2000\n",
       "Mongkok Branch     3000\n",
       "dtype: int64"
      ]
     },
     "execution_count": 16,
     "metadata": {},
     "output_type": "execute_result"
    }
   ],
   "source": [
    "sales_series"
   ]
  },
  {
   "cell_type": "markdown",
   "id": "b4e8c74c",
   "metadata": {},
   "source": [
    "Getting the number using index"
   ]
  },
  {
   "cell_type": "code",
   "execution_count": 17,
   "id": "7e79920a",
   "metadata": {},
   "outputs": [
    {
     "data": {
      "text/plain": [
       "np.int64(10000)"
      ]
     },
     "execution_count": 17,
     "metadata": {},
     "output_type": "execute_result"
    }
   ],
   "source": [
    "sales_series[\"Central Branch\"]"
   ]
  },
  {
   "cell_type": "markdown",
   "id": "388d2ece",
   "metadata": {},
   "source": [
    "## 3 Pandas Dataframe"
   ]
  },
  {
   "cell_type": "markdown",
   "id": "c756f438",
   "metadata": {},
   "source": [
    "You can consider the Series is one column of data on an excel spreadsheet. A dataframe has mulitple series and you can consider that the data of a whole spreadsheet"
   ]
  },
  {
   "cell_type": "markdown",
   "id": "12aa8a6f",
   "metadata": {},
   "source": [
    "### 3.1 Create dataframe from csv"
   ]
  },
  {
   "cell_type": "code",
   "execution_count": 18,
   "id": "0a88f1c9",
   "metadata": {},
   "outputs": [],
   "source": [
    "aapl = pd.read_csv(\"AAPL.csv\")"
   ]
  },
  {
   "cell_type": "code",
   "execution_count": 19,
   "id": "20064351",
   "metadata": {},
   "outputs": [
    {
     "data": {
      "text/html": [
       "<div>\n",
       "<style scoped>\n",
       "    .dataframe tbody tr th:only-of-type {\n",
       "        vertical-align: middle;\n",
       "    }\n",
       "\n",
       "    .dataframe tbody tr th {\n",
       "        vertical-align: top;\n",
       "    }\n",
       "\n",
       "    .dataframe thead th {\n",
       "        text-align: right;\n",
       "    }\n",
       "</style>\n",
       "<table border=\"1\" class=\"dataframe\">\n",
       "  <thead>\n",
       "    <tr style=\"text-align: right;\">\n",
       "      <th></th>\n",
       "      <th>Date</th>\n",
       "      <th>Open</th>\n",
       "      <th>High</th>\n",
       "      <th>Low</th>\n",
       "      <th>Close</th>\n",
       "      <th>Adj Close</th>\n",
       "      <th>Volume</th>\n",
       "    </tr>\n",
       "  </thead>\n",
       "  <tbody>\n",
       "    <tr>\n",
       "      <th>0</th>\n",
       "      <td>2019-10-28</td>\n",
       "      <td>61.855000</td>\n",
       "      <td>62.312500</td>\n",
       "      <td>61.680000</td>\n",
       "      <td>62.262501</td>\n",
       "      <td>61.650810</td>\n",
       "      <td>96572800</td>\n",
       "    </tr>\n",
       "    <tr>\n",
       "      <th>1</th>\n",
       "      <td>2019-10-29</td>\n",
       "      <td>62.242500</td>\n",
       "      <td>62.437500</td>\n",
       "      <td>60.642502</td>\n",
       "      <td>60.822498</td>\n",
       "      <td>60.224953</td>\n",
       "      <td>142839600</td>\n",
       "    </tr>\n",
       "    <tr>\n",
       "      <th>2</th>\n",
       "      <td>2019-10-30</td>\n",
       "      <td>61.189999</td>\n",
       "      <td>61.325001</td>\n",
       "      <td>60.302502</td>\n",
       "      <td>60.814999</td>\n",
       "      <td>60.217525</td>\n",
       "      <td>124522000</td>\n",
       "    </tr>\n",
       "    <tr>\n",
       "      <th>3</th>\n",
       "      <td>2019-10-31</td>\n",
       "      <td>61.810001</td>\n",
       "      <td>62.292500</td>\n",
       "      <td>59.314999</td>\n",
       "      <td>62.189999</td>\n",
       "      <td>61.579021</td>\n",
       "      <td>139162000</td>\n",
       "    </tr>\n",
       "    <tr>\n",
       "      <th>4</th>\n",
       "      <td>2019-11-01</td>\n",
       "      <td>62.384998</td>\n",
       "      <td>63.982498</td>\n",
       "      <td>62.290001</td>\n",
       "      <td>63.955002</td>\n",
       "      <td>63.326683</td>\n",
       "      <td>151125200</td>\n",
       "    </tr>\n",
       "    <tr>\n",
       "      <th>...</th>\n",
       "      <td>...</td>\n",
       "      <td>...</td>\n",
       "      <td>...</td>\n",
       "      <td>...</td>\n",
       "      <td>...</td>\n",
       "      <td>...</td>\n",
       "      <td>...</td>\n",
       "    </tr>\n",
       "    <tr>\n",
       "      <th>248</th>\n",
       "      <td>2020-10-21</td>\n",
       "      <td>116.669998</td>\n",
       "      <td>118.709999</td>\n",
       "      <td>116.449997</td>\n",
       "      <td>116.870003</td>\n",
       "      <td>116.870003</td>\n",
       "      <td>89946000</td>\n",
       "    </tr>\n",
       "    <tr>\n",
       "      <th>249</th>\n",
       "      <td>2020-10-22</td>\n",
       "      <td>117.449997</td>\n",
       "      <td>118.040001</td>\n",
       "      <td>114.589996</td>\n",
       "      <td>115.750000</td>\n",
       "      <td>115.750000</td>\n",
       "      <td>101988000</td>\n",
       "    </tr>\n",
       "    <tr>\n",
       "      <th>250</th>\n",
       "      <td>2020-10-23</td>\n",
       "      <td>116.389999</td>\n",
       "      <td>116.550003</td>\n",
       "      <td>114.279999</td>\n",
       "      <td>115.040001</td>\n",
       "      <td>115.040001</td>\n",
       "      <td>82572600</td>\n",
       "    </tr>\n",
       "    <tr>\n",
       "      <th>251</th>\n",
       "      <td>2020-10-26</td>\n",
       "      <td>114.010002</td>\n",
       "      <td>116.550003</td>\n",
       "      <td>112.879997</td>\n",
       "      <td>115.050003</td>\n",
       "      <td>115.050003</td>\n",
       "      <td>111850700</td>\n",
       "    </tr>\n",
       "    <tr>\n",
       "      <th>252</th>\n",
       "      <td>2020-10-27</td>\n",
       "      <td>115.489998</td>\n",
       "      <td>117.279999</td>\n",
       "      <td>114.540001</td>\n",
       "      <td>116.599998</td>\n",
       "      <td>116.599998</td>\n",
       "      <td>91927700</td>\n",
       "    </tr>\n",
       "  </tbody>\n",
       "</table>\n",
       "<p>253 rows × 7 columns</p>\n",
       "</div>"
      ],
      "text/plain": [
       "           Date        Open        High         Low       Close   Adj Close  \\\n",
       "0    2019-10-28   61.855000   62.312500   61.680000   62.262501   61.650810   \n",
       "1    2019-10-29   62.242500   62.437500   60.642502   60.822498   60.224953   \n",
       "2    2019-10-30   61.189999   61.325001   60.302502   60.814999   60.217525   \n",
       "3    2019-10-31   61.810001   62.292500   59.314999   62.189999   61.579021   \n",
       "4    2019-11-01   62.384998   63.982498   62.290001   63.955002   63.326683   \n",
       "..          ...         ...         ...         ...         ...         ...   \n",
       "248  2020-10-21  116.669998  118.709999  116.449997  116.870003  116.870003   \n",
       "249  2020-10-22  117.449997  118.040001  114.589996  115.750000  115.750000   \n",
       "250  2020-10-23  116.389999  116.550003  114.279999  115.040001  115.040001   \n",
       "251  2020-10-26  114.010002  116.550003  112.879997  115.050003  115.050003   \n",
       "252  2020-10-27  115.489998  117.279999  114.540001  116.599998  116.599998   \n",
       "\n",
       "        Volume  \n",
       "0     96572800  \n",
       "1    142839600  \n",
       "2    124522000  \n",
       "3    139162000  \n",
       "4    151125200  \n",
       "..         ...  \n",
       "248   89946000  \n",
       "249  101988000  \n",
       "250   82572600  \n",
       "251  111850700  \n",
       "252   91927700  \n",
       "\n",
       "[253 rows x 7 columns]"
      ]
     },
     "execution_count": 19,
     "metadata": {},
     "output_type": "execute_result"
    }
   ],
   "source": [
    "aapl"
   ]
  },
  {
   "cell_type": "code",
   "execution_count": 20,
   "id": "a6ae2efc",
   "metadata": {},
   "outputs": [],
   "source": [
    "aapl_proper_index = pd.read_csv(\"AAPL.csv\", parse_dates=True, index_col='Date')"
   ]
  },
  {
   "cell_type": "code",
   "execution_count": 21,
   "id": "92625a87",
   "metadata": {},
   "outputs": [
    {
     "data": {
      "text/html": [
       "<div>\n",
       "<style scoped>\n",
       "    .dataframe tbody tr th:only-of-type {\n",
       "        vertical-align: middle;\n",
       "    }\n",
       "\n",
       "    .dataframe tbody tr th {\n",
       "        vertical-align: top;\n",
       "    }\n",
       "\n",
       "    .dataframe thead th {\n",
       "        text-align: right;\n",
       "    }\n",
       "</style>\n",
       "<table border=\"1\" class=\"dataframe\">\n",
       "  <thead>\n",
       "    <tr style=\"text-align: right;\">\n",
       "      <th></th>\n",
       "      <th>Open</th>\n",
       "      <th>High</th>\n",
       "      <th>Low</th>\n",
       "      <th>Close</th>\n",
       "      <th>Adj Close</th>\n",
       "      <th>Volume</th>\n",
       "    </tr>\n",
       "    <tr>\n",
       "      <th>Date</th>\n",
       "      <th></th>\n",
       "      <th></th>\n",
       "      <th></th>\n",
       "      <th></th>\n",
       "      <th></th>\n",
       "      <th></th>\n",
       "    </tr>\n",
       "  </thead>\n",
       "  <tbody>\n",
       "    <tr>\n",
       "      <th>2019-10-28</th>\n",
       "      <td>61.855000</td>\n",
       "      <td>62.312500</td>\n",
       "      <td>61.680000</td>\n",
       "      <td>62.262501</td>\n",
       "      <td>61.650810</td>\n",
       "      <td>96572800</td>\n",
       "    </tr>\n",
       "    <tr>\n",
       "      <th>2019-10-29</th>\n",
       "      <td>62.242500</td>\n",
       "      <td>62.437500</td>\n",
       "      <td>60.642502</td>\n",
       "      <td>60.822498</td>\n",
       "      <td>60.224953</td>\n",
       "      <td>142839600</td>\n",
       "    </tr>\n",
       "    <tr>\n",
       "      <th>2019-10-30</th>\n",
       "      <td>61.189999</td>\n",
       "      <td>61.325001</td>\n",
       "      <td>60.302502</td>\n",
       "      <td>60.814999</td>\n",
       "      <td>60.217525</td>\n",
       "      <td>124522000</td>\n",
       "    </tr>\n",
       "    <tr>\n",
       "      <th>2019-10-31</th>\n",
       "      <td>61.810001</td>\n",
       "      <td>62.292500</td>\n",
       "      <td>59.314999</td>\n",
       "      <td>62.189999</td>\n",
       "      <td>61.579021</td>\n",
       "      <td>139162000</td>\n",
       "    </tr>\n",
       "    <tr>\n",
       "      <th>2019-11-01</th>\n",
       "      <td>62.384998</td>\n",
       "      <td>63.982498</td>\n",
       "      <td>62.290001</td>\n",
       "      <td>63.955002</td>\n",
       "      <td>63.326683</td>\n",
       "      <td>151125200</td>\n",
       "    </tr>\n",
       "    <tr>\n",
       "      <th>...</th>\n",
       "      <td>...</td>\n",
       "      <td>...</td>\n",
       "      <td>...</td>\n",
       "      <td>...</td>\n",
       "      <td>...</td>\n",
       "      <td>...</td>\n",
       "    </tr>\n",
       "    <tr>\n",
       "      <th>2020-10-21</th>\n",
       "      <td>116.669998</td>\n",
       "      <td>118.709999</td>\n",
       "      <td>116.449997</td>\n",
       "      <td>116.870003</td>\n",
       "      <td>116.870003</td>\n",
       "      <td>89946000</td>\n",
       "    </tr>\n",
       "    <tr>\n",
       "      <th>2020-10-22</th>\n",
       "      <td>117.449997</td>\n",
       "      <td>118.040001</td>\n",
       "      <td>114.589996</td>\n",
       "      <td>115.750000</td>\n",
       "      <td>115.750000</td>\n",
       "      <td>101988000</td>\n",
       "    </tr>\n",
       "    <tr>\n",
       "      <th>2020-10-23</th>\n",
       "      <td>116.389999</td>\n",
       "      <td>116.550003</td>\n",
       "      <td>114.279999</td>\n",
       "      <td>115.040001</td>\n",
       "      <td>115.040001</td>\n",
       "      <td>82572600</td>\n",
       "    </tr>\n",
       "    <tr>\n",
       "      <th>2020-10-26</th>\n",
       "      <td>114.010002</td>\n",
       "      <td>116.550003</td>\n",
       "      <td>112.879997</td>\n",
       "      <td>115.050003</td>\n",
       "      <td>115.050003</td>\n",
       "      <td>111850700</td>\n",
       "    </tr>\n",
       "    <tr>\n",
       "      <th>2020-10-27</th>\n",
       "      <td>115.489998</td>\n",
       "      <td>117.279999</td>\n",
       "      <td>114.540001</td>\n",
       "      <td>116.599998</td>\n",
       "      <td>116.599998</td>\n",
       "      <td>91927700</td>\n",
       "    </tr>\n",
       "  </tbody>\n",
       "</table>\n",
       "<p>253 rows × 6 columns</p>\n",
       "</div>"
      ],
      "text/plain": [
       "                  Open        High         Low       Close   Adj Close  \\\n",
       "Date                                                                     \n",
       "2019-10-28   61.855000   62.312500   61.680000   62.262501   61.650810   \n",
       "2019-10-29   62.242500   62.437500   60.642502   60.822498   60.224953   \n",
       "2019-10-30   61.189999   61.325001   60.302502   60.814999   60.217525   \n",
       "2019-10-31   61.810001   62.292500   59.314999   62.189999   61.579021   \n",
       "2019-11-01   62.384998   63.982498   62.290001   63.955002   63.326683   \n",
       "...                ...         ...         ...         ...         ...   \n",
       "2020-10-21  116.669998  118.709999  116.449997  116.870003  116.870003   \n",
       "2020-10-22  117.449997  118.040001  114.589996  115.750000  115.750000   \n",
       "2020-10-23  116.389999  116.550003  114.279999  115.040001  115.040001   \n",
       "2020-10-26  114.010002  116.550003  112.879997  115.050003  115.050003   \n",
       "2020-10-27  115.489998  117.279999  114.540001  116.599998  116.599998   \n",
       "\n",
       "               Volume  \n",
       "Date                   \n",
       "2019-10-28   96572800  \n",
       "2019-10-29  142839600  \n",
       "2019-10-30  124522000  \n",
       "2019-10-31  139162000  \n",
       "2019-11-01  151125200  \n",
       "...               ...  \n",
       "2020-10-21   89946000  \n",
       "2020-10-22  101988000  \n",
       "2020-10-23   82572600  \n",
       "2020-10-26  111850700  \n",
       "2020-10-27   91927700  \n",
       "\n",
       "[253 rows x 6 columns]"
      ]
     },
     "execution_count": 21,
     "metadata": {},
     "output_type": "execute_result"
    }
   ],
   "source": [
    "aapl_proper_index"
   ]
  },
  {
   "cell_type": "markdown",
   "id": "7a3a1988",
   "metadata": {},
   "source": [
    "### 3.2 From Quandl"
   ]
  },
  {
   "cell_type": "code",
   "execution_count": 22,
   "id": "da0ee6dc",
   "metadata": {},
   "outputs": [
    {
     "ename": "ModuleNotFoundError",
     "evalue": "No module named 'quandl'",
     "output_type": "error",
     "traceback": [
      "\u001b[31m---------------------------------------------------------------------------\u001b[39m",
      "\u001b[31mModuleNotFoundError\u001b[39m                       Traceback (most recent call last)",
      "\u001b[36mCell\u001b[39m\u001b[36m \u001b[39m\u001b[32mIn[22]\u001b[39m\u001b[32m, line 1\u001b[39m\n\u001b[32m----> \u001b[39m\u001b[32m1\u001b[39m \u001b[38;5;28;01mimport\u001b[39;00m\u001b[38;5;250m \u001b[39m\u001b[34;01mquandl\u001b[39;00m\n",
      "\u001b[31mModuleNotFoundError\u001b[39m: No module named 'quandl'"
     ]
    }
   ],
   "source": [
    "import quandl"
   ]
  },
  {
   "cell_type": "code",
   "execution_count": null,
   "id": "3d0ac03e",
   "metadata": {},
   "outputs": [],
   "source": [
    "quandl.ApiConfig.api_key = 'x9M_pZutNNPnha1WDdjZ'\n",
    "ck = quandl.get('HKEX/00001', start_date='2020-10-20', end_date='2021-10-20')"
   ]
  },
  {
   "cell_type": "code",
   "execution_count": null,
   "id": "ebda1d4c",
   "metadata": {},
   "outputs": [],
   "source": [
    "ck"
   ]
  },
  {
   "cell_type": "markdown",
   "id": "db245a3b",
   "metadata": {},
   "source": [
    "### 3.3 From Series"
   ]
  },
  {
   "cell_type": "code",
   "execution_count": null,
   "id": "c389d843",
   "metadata": {},
   "outputs": [],
   "source": [
    "costs = {'Central Branch' : 300000,\n",
    "         'TST Branch' : 50000,\n",
    "         'Mongkok Branch' : 20000}"
   ]
  },
  {
   "cell_type": "code",
   "execution_count": null,
   "id": "b6936c74",
   "metadata": {},
   "outputs": [],
   "source": [
    "branch_summary = pd.DataFrame({\"sales\": sales, \"costs\": costs})"
   ]
  },
  {
   "cell_type": "code",
   "execution_count": null,
   "id": "9107a2e3",
   "metadata": {},
   "outputs": [],
   "source": [
    "branch_summary"
   ]
  },
  {
   "cell_type": "markdown",
   "id": "5bab7a42",
   "metadata": {},
   "source": [
    "### 3.4 Getting data from dataframe (getting rows with date)"
   ]
  },
  {
   "cell_type": "code",
   "execution_count": null,
   "id": "6a84288d",
   "metadata": {},
   "outputs": [],
   "source": [
    "aapl_proper_index.loc[\"2019-10-30\"]"
   ]
  },
  {
   "cell_type": "code",
   "execution_count": null,
   "id": "60c748c1",
   "metadata": {},
   "outputs": [],
   "source": [
    "aapl_proper_index.loc[\"2019-10-30\":\"2019-11-15\"]"
   ]
  },
  {
   "cell_type": "code",
   "execution_count": null,
   "id": "b0c747d8",
   "metadata": {},
   "outputs": [],
   "source": [
    "aapl_proper_index.loc[\"2019-11\"]"
   ]
  },
  {
   "cell_type": "markdown",
   "id": "de65e36f",
   "metadata": {},
   "source": [
    "### 3.5 Getting data from dataframe (get a series)"
   ]
  },
  {
   "cell_type": "code",
   "execution_count": null,
   "id": "ff87318b",
   "metadata": {},
   "outputs": [],
   "source": [
    "aapl_proper_index.loc[\"2019-11\"][\"Close\"]"
   ]
  },
  {
   "cell_type": "markdown",
   "id": "1b48da3d",
   "metadata": {},
   "source": [
    "### 3.6 Getting data from dataframe (get multiple column from a dataframe)"
   ]
  },
  {
   "cell_type": "code",
   "execution_count": null,
   "id": "a39c7d23",
   "metadata": {},
   "outputs": [],
   "source": [
    "aapl_proper_index.loc[\"2019-11\"][[\"Open\",\"Close\"]]"
   ]
  },
  {
   "cell_type": "markdown",
   "id": "7fe98d18",
   "metadata": {},
   "source": [
    "### 3.7 Getting data from dataframe (that's not a date/integer)"
   ]
  },
  {
   "cell_type": "code",
   "execution_count": null,
   "id": "a3e09fd0",
   "metadata": {},
   "outputs": [],
   "source": [
    "branch_summary.loc[\"Central Branch\"]"
   ]
  },
  {
   "cell_type": "code",
   "execution_count": null,
   "id": "114ba40f",
   "metadata": {},
   "outputs": [],
   "source": [
    "branch_summary[\"sales\"]"
   ]
  },
  {
   "cell_type": "markdown",
   "id": "15222ed8",
   "metadata": {},
   "source": [
    "### 3.8 Getting data from dataframe (using implicit index)"
   ]
  },
  {
   "cell_type": "code",
   "execution_count": null,
   "id": "72c1e9ba",
   "metadata": {},
   "outputs": [],
   "source": [
    "branch_summary.index"
   ]
  },
  {
   "cell_type": "code",
   "execution_count": null,
   "id": "e34b9495",
   "metadata": {},
   "outputs": [],
   "source": [
    "aapl_proper_index.index"
   ]
  },
  {
   "cell_type": "code",
   "execution_count": null,
   "id": "a32d711d",
   "metadata": {},
   "outputs": [],
   "source": [
    "aapl.index"
   ]
  },
  {
   "cell_type": "code",
   "execution_count": null,
   "id": "0836e844",
   "metadata": {},
   "outputs": [],
   "source": [
    "aapl_proper_index.iloc[0:10]"
   ]
  },
  {
   "cell_type": "markdown",
   "id": "d7a78ecf",
   "metadata": {},
   "source": [
    "## 4. Filtering"
   ]
  },
  {
   "cell_type": "markdown",
   "id": "7706e9dd",
   "metadata": {},
   "source": [
    "### 4.1 Single condition"
   ]
  },
  {
   "cell_type": "code",
   "execution_count": null,
   "id": "ba29f518",
   "metadata": {},
   "outputs": [],
   "source": [
    "aapl_proper_index[\"Open\"] > 100"
   ]
  },
  {
   "cell_type": "code",
   "execution_count": null,
   "id": "22ac3ad1",
   "metadata": {},
   "outputs": [],
   "source": [
    "aapl_proper_index[aapl_proper_index[\"Open\"] > 100]"
   ]
  },
  {
   "cell_type": "markdown",
   "id": "d0ff9063",
   "metadata": {},
   "source": [
    "## 4.2 multiple condition"
   ]
  },
  {
   "cell_type": "code",
   "execution_count": null,
   "id": "1c5574e2",
   "metadata": {},
   "outputs": [],
   "source": [
    "(aapl_proper_index[\"Open\"] > 100) & (aapl_proper_index[\"Volume\"] > 100000000)"
   ]
  },
  {
   "cell_type": "code",
   "execution_count": null,
   "id": "6ab72ebf",
   "metadata": {},
   "outputs": [],
   "source": [
    "cond = (aapl_proper_index[\"Open\"] > 100) & (aapl_proper_index[\"Volume\"] > 100000000)"
   ]
  },
  {
   "cell_type": "code",
   "execution_count": null,
   "id": "cfe5d612",
   "metadata": {},
   "outputs": [],
   "source": [
    "aapl_proper_index[cond]"
   ]
  },
  {
   "cell_type": "markdown",
   "id": "649b6f86",
   "metadata": {},
   "source": [
    "#### Side notes"
   ]
  },
  {
   "cell_type": "markdown",
   "id": "599252b7",
   "metadata": {},
   "source": [
    "Showing the top "
   ]
  },
  {
   "cell_type": "code",
   "execution_count": null,
   "id": "3b0d0293",
   "metadata": {},
   "outputs": [],
   "source": [
    "aapl_proper_index[cond].head(20)"
   ]
  },
  {
   "cell_type": "code",
   "execution_count": null,
   "id": "d4bd5fc0",
   "metadata": {},
   "outputs": [],
   "source": [
    "aapl_proper_index[cond].tail(5)"
   ]
  },
  {
   "cell_type": "markdown",
   "id": "e7fcccd2",
   "metadata": {},
   "source": [
    "## 4.3 query"
   ]
  },
  {
   "cell_type": "code",
   "execution_count": null,
   "id": "f866b899",
   "metadata": {},
   "outputs": [],
   "source": [
    "aapl_proper_index[cond].query(\"Open > 100 and Volume > 110000000\").head(10)"
   ]
  },
  {
   "cell_type": "markdown",
   "id": "932bccc7",
   "metadata": {},
   "source": [
    "# 5. New columns"
   ]
  },
  {
   "cell_type": "markdown",
   "id": "023d022d",
   "metadata": {},
   "source": [
    "## 5.1 Density Example"
   ]
  },
  {
   "cell_type": "code",
   "execution_count": null,
   "id": "83ebf03c",
   "metadata": {},
   "outputs": [],
   "source": [
    "\n",
    "population = pd.Series({'California': 38332521,\n",
    "                   'Texas': 26448193,\n",
    "                   'New York': 19651127,\n",
    "                   'Florida': 19552860,\n",
    "                   'Illinois': 12882135}\n",
    ")\n",
    "\n",
    "area = pd.Series({'California': 423967, \n",
    "             'Texas': 695662, \n",
    "             'New York': 141297,\n",
    "             'Florida': 170312, \n",
    "             'Illinois': 149995})\n",
    "\n",
    "states = pd.DataFrame(  {'population': population,'area': area} )\n",
    "states"
   ]
  },
  {
   "cell_type": "code",
   "execution_count": null,
   "id": "278f4672",
   "metadata": {},
   "outputs": [],
   "source": [
    "states[\"density\"] = states[\"population\"] / states[\"area\"]"
   ]
  },
  {
   "cell_type": "code",
   "execution_count": null,
   "id": "005b3ac5",
   "metadata": {},
   "outputs": [],
   "source": [
    "states"
   ]
  },
  {
   "cell_type": "markdown",
   "id": "8526db19",
   "metadata": {},
   "source": [
    "## 5.2 Stocks example"
   ]
  },
  {
   "cell_type": "code",
   "execution_count": null,
   "id": "59008d49",
   "metadata": {},
   "outputs": [],
   "source": [
    "aapl_proper_index[\"Percent Changes\"] = aapl_proper_index[\"Close\"].pct_change()"
   ]
  },
  {
   "cell_type": "code",
   "execution_count": null,
   "id": "3115a2c6",
   "metadata": {},
   "outputs": [],
   "source": [
    "aapl_proper_index"
   ]
  },
  {
   "cell_type": "markdown",
   "id": "3279df01",
   "metadata": {},
   "source": [
    "# 6. Aggregation"
   ]
  },
  {
   "cell_type": "markdown",
   "id": "9dec0caa",
   "metadata": {},
   "source": [
    "## 6.1 Basic operations"
   ]
  },
  {
   "cell_type": "code",
   "execution_count": null,
   "id": "876e6b85",
   "metadata": {},
   "outputs": [],
   "source": [
    "aapl_proper_index[\"Percent Changes\"].mean()"
   ]
  },
  {
   "cell_type": "code",
   "execution_count": null,
   "id": "27c153e5",
   "metadata": {},
   "outputs": [],
   "source": [
    "aapl_proper_index[\"Percent Changes\"].max()"
   ]
  },
  {
   "cell_type": "code",
   "execution_count": null,
   "id": "23e031ff",
   "metadata": {},
   "outputs": [],
   "source": [
    "aapl_proper_index[\"Percent Changes\"].min()"
   ]
  },
  {
   "cell_type": "code",
   "execution_count": null,
   "id": "92849318",
   "metadata": {
    "scrolled": true
   },
   "outputs": [],
   "source": [
    "aapl_proper_index[\"Percent Changes\"].median()"
   ]
  },
  {
   "cell_type": "code",
   "execution_count": null,
   "id": "e6f50326",
   "metadata": {},
   "outputs": [],
   "source": [
    "aapl_proper_index[aapl_proper_index[\"Percent Changes\"] > 0][\"Percent Changes\"].mean()"
   ]
  },
  {
   "cell_type": "code",
   "execution_count": null,
   "id": "a3d0e96b",
   "metadata": {},
   "outputs": [],
   "source": [
    "aapl_proper_index[aapl_proper_index[\"Percent Changes\"] < 0][\"Percent Changes\"].mean()"
   ]
  },
  {
   "cell_type": "markdown",
   "id": "fd7781d1",
   "metadata": {},
   "source": [
    "## 6.2 Grouping"
   ]
  },
  {
   "cell_type": "markdown",
   "id": "64ec7f60",
   "metadata": {},
   "source": [
    "We use planets discovery data as an example for grouping"
   ]
  },
  {
   "cell_type": "code",
   "execution_count": null,
   "id": "26b8b374",
   "metadata": {},
   "outputs": [],
   "source": [
    "import seaborn as sns\n",
    "planets = sns.load_dataset('planets')\n",
    "planets.shape"
   ]
  },
  {
   "cell_type": "code",
   "execution_count": null,
   "id": "3c8426a5",
   "metadata": {},
   "outputs": [],
   "source": [
    "planets"
   ]
  },
  {
   "cell_type": "code",
   "execution_count": null,
   "id": "9872086c",
   "metadata": {},
   "outputs": [],
   "source": [
    "planets.groupby('method')['orbital_period'].median()"
   ]
  },
  {
   "cell_type": "code",
   "execution_count": null,
   "id": "8399a771",
   "metadata": {},
   "outputs": [],
   "source": [
    "planets.groupby('method')['orbital_period'].describe()"
   ]
  },
  {
   "cell_type": "code",
   "execution_count": null,
   "id": "4cd98382",
   "metadata": {},
   "outputs": [],
   "source": [
    "planets.groupby('method')[\"number\"].count()"
   ]
  },
  {
   "cell_type": "markdown",
   "id": "1430d995",
   "metadata": {},
   "source": [
    "# 7. Joining Data"
   ]
  },
  {
   "cell_type": "markdown",
   "id": "c3abca64",
   "metadata": {},
   "source": [
    "## 7.1 Merge (or join)"
   ]
  },
  {
   "cell_type": "code",
   "execution_count": null,
   "id": "de4cab14",
   "metadata": {},
   "outputs": [],
   "source": [
    "department = pd.DataFrame({'employee': ['Bob', 'Jake', 'Lisa', 'Sue'],\n",
    "                    'group': ['Accounting', 'Engineering', 'Engineering', 'HR']})\n",
    "\n",
    "department"
   ]
  },
  {
   "cell_type": "code",
   "execution_count": null,
   "id": "6301c1f2",
   "metadata": {},
   "outputs": [],
   "source": [
    "hire_date = pd.DataFrame({'employee': ['Lisa', 'Bob', 'Jake', 'Sue'],\n",
    "                    'hire_date': [2004, 2008, 2012, 2014]})\n",
    "\n",
    "hire_date"
   ]
  },
  {
   "cell_type": "code",
   "execution_count": null,
   "id": "7a4f923b",
   "metadata": {},
   "outputs": [],
   "source": [
    "employee = pd.merge(department, hire_date)\n",
    "employee"
   ]
  },
  {
   "cell_type": "code",
   "execution_count": null,
   "id": "0bab79da",
   "metadata": {},
   "outputs": [],
   "source": [
    "employee = pd.merge(department, hire_date, on=\"employee\")\n",
    "employee"
   ]
  },
  {
   "cell_type": "code",
   "execution_count": null,
   "id": "29d1d5e0",
   "metadata": {},
   "outputs": [],
   "source": [
    "salary = pd.DataFrame({'name': ['Bob', 'Jake', 'Lisa', 'Sue'],\n",
    "                    'salary': [70000, 80000, 120000, 90000]})\n",
    "salary"
   ]
  },
  {
   "cell_type": "code",
   "execution_count": null,
   "id": "200d57d0",
   "metadata": {},
   "outputs": [],
   "source": [
    "employee = pd.merge(department, salary, left_on=\"employee\", right_on=\"name\")\n",
    "employee"
   ]
  },
  {
   "cell_type": "code",
   "execution_count": null,
   "id": "cd98a441",
   "metadata": {},
   "outputs": [],
   "source": [
    "employee = employee.drop('name',axis=1)\n",
    "employee"
   ]
  },
  {
   "cell_type": "markdown",
   "id": "3762163c",
   "metadata": {},
   "source": [
    "## 7.2 one to many merging"
   ]
  },
  {
   "cell_type": "code",
   "execution_count": null,
   "id": "b1aa1315",
   "metadata": {},
   "outputs": [],
   "source": [
    "supervisor = pd.DataFrame({'group': ['Accounting', 'Engineering', 'HR'],\n",
    "                    'supervisor': ['Carly', 'Guido', 'Steve']})\n",
    "supervisor"
   ]
  },
  {
   "cell_type": "code",
   "execution_count": null,
   "id": "b01c9052",
   "metadata": {},
   "outputs": [],
   "source": [
    "pd.merge(employee,supervisor)"
   ]
  },
  {
   "cell_type": "markdown",
   "id": "211fc106",
   "metadata": {},
   "source": [
    "# 7.3 Many to Many merging"
   ]
  },
  {
   "cell_type": "code",
   "execution_count": null,
   "id": "87fb2052",
   "metadata": {},
   "outputs": [],
   "source": [
    "skills = pd.DataFrame({'group': ['Accounting', 'Accounting','Engineering', \n",
    "                              'Engineering', 'HR', 'HR'],\n",
    "                    'skills': ['math', 'spreadsheets', 'coding', \n",
    "                               'linux','spreadsheets', 'organization']})"
   ]
  },
  {
   "cell_type": "code",
   "execution_count": null,
   "id": "e1d7ebc4",
   "metadata": {},
   "outputs": [],
   "source": [
    "pd.merge(employee,skills)"
   ]
  },
  {
   "cell_type": "markdown",
   "id": "ec89a9e8",
   "metadata": {},
   "source": [
    "It's a very strange set of data. Make sure you know how to use it for many-to-many merging"
   ]
  },
  {
   "cell_type": "markdown",
   "id": "1d976a18",
   "metadata": {},
   "source": [
    "## 7.4 Inner Join / Outer Join / Left Join / Right Join"
   ]
  },
  {
   "cell_type": "code",
   "execution_count": null,
   "id": "1c7edc09",
   "metadata": {},
   "outputs": [],
   "source": [
    "fav_food = pd.DataFrame({'name': ['Peter', 'Paul', 'Mary'],\n",
    "                    'food': ['fish', 'beans', 'bread']},\n",
    "                   columns=['name', 'food'])\n",
    "fav_food"
   ]
  },
  {
   "cell_type": "code",
   "execution_count": null,
   "id": "74aa124b",
   "metadata": {},
   "outputs": [],
   "source": [
    "fav_drink = pd.DataFrame({'name': ['Mary', 'Joseph'],\n",
    "                    'drink': ['wine', 'beer']},\n",
    "                   columns=['name', 'drink'])\n",
    "fav_drink"
   ]
  },
  {
   "cell_type": "code",
   "execution_count": null,
   "id": "48886a2f",
   "metadata": {},
   "outputs": [],
   "source": [
    "pd.merge(fav_food, fav_drink)"
   ]
  },
  {
   "cell_type": "code",
   "execution_count": null,
   "id": "d5e4c0e9",
   "metadata": {},
   "outputs": [],
   "source": [
    "pd.merge(fav_food, fav_drink, how=\"outer\")"
   ]
  },
  {
   "cell_type": "code",
   "execution_count": null,
   "id": "84ab9843",
   "metadata": {},
   "outputs": [],
   "source": [
    "pd.merge(fav_food, fav_drink, how=\"left\")"
   ]
  },
  {
   "cell_type": "code",
   "execution_count": null,
   "id": "3d11be90",
   "metadata": {},
   "outputs": [],
   "source": [
    "pd.merge(fav_food, fav_drink, how=\"right\")"
   ]
  },
  {
   "cell_type": "markdown",
   "id": "d8e16b5b",
   "metadata": {},
   "source": [
    "# 8. Handling Missing Data"
   ]
  },
  {
   "cell_type": "code",
   "execution_count": null,
   "id": "e782f9ea",
   "metadata": {},
   "outputs": [],
   "source": [
    "hibor = pd.read_csv(\"hibor.csv\", parse_dates=True, index_col='date')"
   ]
  },
  {
   "cell_type": "code",
   "execution_count": null,
   "id": "04401df8",
   "metadata": {},
   "outputs": [],
   "source": [
    "hibor"
   ]
  },
  {
   "cell_type": "markdown",
   "id": "a880cff4",
   "metadata": {},
   "source": [
    "## 8.1 Check missing data"
   ]
  },
  {
   "cell_type": "code",
   "execution_count": null,
   "id": "6fc86cdc",
   "metadata": {},
   "outputs": [],
   "source": [
    "hibor.isnull()"
   ]
  },
  {
   "cell_type": "code",
   "execution_count": null,
   "id": "84d0ac6f",
   "metadata": {},
   "outputs": [],
   "source": [
    "hibor.isnull().values.any()"
   ]
  },
  {
   "cell_type": "code",
   "execution_count": null,
   "id": "fc5a7223",
   "metadata": {},
   "outputs": [],
   "source": [
    "hibor[\"overnight\"].isnull().values.any()"
   ]
  },
  {
   "cell_type": "code",
   "execution_count": null,
   "id": "87d7e12f",
   "metadata": {},
   "outputs": [],
   "source": [
    "hibor[\"overnight\"].isnull().value_counts()"
   ]
  },
  {
   "cell_type": "code",
   "execution_count": null,
   "id": "d3acd78f",
   "metadata": {},
   "outputs": [],
   "source": [
    "hibor[\"overnight\"][hibor[\"overnight\"].isnull()]"
   ]
  },
  {
   "cell_type": "markdown",
   "id": "27237840",
   "metadata": {},
   "source": [
    "## 8.2 Drop Data"
   ]
  },
  {
   "cell_type": "code",
   "execution_count": null,
   "id": "f550b706",
   "metadata": {},
   "outputs": [],
   "source": [
    "hibor.dropna()"
   ]
  },
  {
   "cell_type": "markdown",
   "id": "3f0d7ba1",
   "metadata": {},
   "source": [
    "## 8.3 Fill with specific values"
   ]
  },
  {
   "cell_type": "markdown",
   "id": "4033679b",
   "metadata": {},
   "source": [
    "Notes: Just show as an example. Does not make sense in this scenario"
   ]
  },
  {
   "cell_type": "code",
   "execution_count": null,
   "id": "0ac6a858",
   "metadata": {},
   "outputs": [],
   "source": [
    "hibor.fillna(0)"
   ]
  },
  {
   "cell_type": "markdown",
   "id": "d03e428d",
   "metadata": {},
   "source": [
    "## 8.4 Fill with previous values (i.e. forward fill)\n"
   ]
  },
  {
   "cell_type": "code",
   "execution_count": null,
   "id": "0576a4c1",
   "metadata": {},
   "outputs": [],
   "source": [
    "hibor.fillna(method='ffill')"
   ]
  },
  {
   "cell_type": "markdown",
   "id": "d916df12",
   "metadata": {},
   "source": [
    "## 8.5 Fill with next values (i.e. back fill)\n"
   ]
  },
  {
   "cell_type": "markdown",
   "id": "aff4fd55",
   "metadata": {},
   "source": [
    "Remark: may not make sense in this example"
   ]
  },
  {
   "cell_type": "code",
   "execution_count": null,
   "id": "19fdac25",
   "metadata": {},
   "outputs": [],
   "source": [
    "hibor.fillna(method='bfill')"
   ]
  },
  {
   "cell_type": "markdown",
   "id": "785c9ec4",
   "metadata": {},
   "source": [
    "# 9. Export CSV"
   ]
  },
  {
   "cell_type": "markdown",
   "id": "fd978fcf",
   "metadata": {},
   "source": [
    "Export dataframe to a csv. Remember don't override the original file!"
   ]
  },
  {
   "cell_type": "code",
   "execution_count": null,
   "id": "3e53c244",
   "metadata": {},
   "outputs": [],
   "source": [
    "aapl_proper_index.to_csv(\"AAPL_new.csv\")"
   ]
  }
 ],
 "metadata": {
  "kernelspec": {
   "display_name": "Python 3",
   "language": "python",
   "name": "python3"
  },
  "language_info": {
   "codemirror_mode": {
    "name": "ipython",
    "version": 3
   },
   "file_extension": ".py",
   "mimetype": "text/x-python",
   "name": "python",
   "nbconvert_exporter": "python",
   "pygments_lexer": "ipython3",
   "version": "3.13.7"
  }
 },
 "nbformat": 4,
 "nbformat_minor": 5
}
